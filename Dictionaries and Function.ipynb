{
 "cells": [
  {
   "cell_type": "markdown",
   "metadata": {},
   "source": [
    "1.1 Write a Python Program(with class concepts) to find the area of the triangle using the below\n",
    "formula.\n",
    "area = (s*(s-a)*(s-b)*(s-c)) ** 0.5\n",
    "Function to take the length of the sides of triangle from user should be defined in the parent\n",
    "class and function to calculate the area should be defined in subclass."
   ]
  },
  {
   "cell_type": "code",
   "execution_count": 1,
   "metadata": {},
   "outputs": [
    {
     "name": "stdout",
     "output_type": "stream",
     "text": [
      "Enter side length a: 10\n",
      "Enter side length b: 15\n",
      "Enter side length c: 20\n",
      "Area of Triangle: 72.61843774138907\n"
     ]
    }
   ],
   "source": [
    "class Triangle:\n",
    "    def __init__(self, a, b, c):\n",
    "        self.a = a\n",
    "        self.b = b\n",
    "        self.c = c\n",
    "    \n",
    "    def area_of_triangle(self):\n",
    "        s = (self.a + self.b + self.c)/2\n",
    "        area = (s * (s - self.a) * (s - self.b) * (s - self.c)) ** 0.5\n",
    "        return area\n",
    "\n",
    "a = float(input('Enter side length a: '))\n",
    "b = float(input('Enter side length b: '))\n",
    "c = float(input('Enter side length c: '))\n",
    "\n",
    "ar_tri = Triangle(a, b, c)\n",
    "\n",
    "print(\"Area of Triangle: {}\".format(ar_tri.area_of_triangle()))"
   ]
  },
  {
   "cell_type": "markdown",
   "metadata": {},
   "source": [
    "1.2 Write a function filter_long_words() that takes a list of words and an integer n and returns\n",
    "the list of words that are longer than n."
   ]
  },
  {
   "cell_type": "code",
   "execution_count": 2,
   "metadata": {},
   "outputs": [
    {
     "name": "stdout",
     "output_type": "stream",
     "text": [
      "Enter n: 7\n"
     ]
    },
    {
     "data": {
      "text/plain": [
       "['Vishwajeet']"
      ]
     },
     "execution_count": 2,
     "metadata": {},
     "output_type": "execute_result"
    }
   ],
   "source": [
    "def filter_long_words(word_list, n):\n",
    "    long_words = []\n",
    "    for i in range(len(word_list)):\n",
    "        if len(word_list[i]) > n:\n",
    "            long_words.append(word_list[i])\n",
    "    return long_words\n",
    "\n",
    "my_word_list = ['Vishwajeet', 'Jadeja', 'Vishwa', 'Rami']\n",
    "n = int(input('Enter n: '))\n",
    "my_sorted_list = filter_long_words(my_word_list, n)\n",
    "my_sorted_list"
   ]
  },
  {
   "cell_type": "markdown",
   "metadata": {},
   "source": [
    "2.1 Write a Python program using function concept that maps list of words into a list of integers\n",
    "representing the lengths of the corresponding words.\n",
    "Hint: If a list [ ab,cde,erty] is passed on to the python function output should come as [2,3,4]\n",
    "Here 2,3 and 4 are the lengths of the words in the list."
   ]
  },
  {
   "cell_type": "code",
   "execution_count": 3,
   "metadata": {},
   "outputs": [
    {
     "data": {
      "text/plain": [
       "[10, 6]"
      ]
     },
     "execution_count": 3,
     "metadata": {},
     "output_type": "execute_result"
    }
   ],
   "source": [
    "def word_length(my_word_list):\n",
    "    word_length_list = []\n",
    "    for i in range(len(my_word_list)):\n",
    "        word_length_list.append(len(my_word_list[i]))\n",
    "    return word_length_list\n",
    "\n",
    "my_list = ['Vishwajeet', 'Jadeja']\n",
    "word_len = word_length(my_list)\n",
    "word_len"
   ]
  },
  {
   "cell_type": "markdown",
   "metadata": {},
   "source": [
    "2.2 Write a Python function which takes a character (i.e. a string of length 1) and returns True if\n",
    "it is a vowel, False otherwise."
   ]
  },
  {
   "cell_type": "code",
   "execution_count": 4,
   "metadata": {},
   "outputs": [
    {
     "name": "stdout",
     "output_type": "stream",
     "text": [
      "True\n",
      "False\n",
      "Kindly give one letter\n",
      "None\n"
     ]
    }
   ],
   "source": [
    "def vowel_check(string):\n",
    "    if len(string) == 1:\n",
    "        if string in ('a', 'e', 'i', 'o', 'u', 'A', 'E', 'I', 'O', 'U'):\n",
    "            return True\n",
    "        else:\n",
    "            return False\n",
    "    else:\n",
    "        print('Kindly give one letter')\n",
    "\n",
    "print(vowel_check('U'))\n",
    "print(vowel_check('V'))\n",
    "print(vowel_check('Vish'))"
   ]
  },
  {
   "cell_type": "code",
   "execution_count": null,
   "metadata": {},
   "outputs": [],
   "source": []
  }
 ],
 "metadata": {
  "kernelspec": {
   "display_name": "Python 3",
   "language": "python",
   "name": "python3"
  },
  "language_info": {
   "codemirror_mode": {
    "name": "ipython",
    "version": 3
   },
   "file_extension": ".py",
   "mimetype": "text/x-python",
   "name": "python",
   "nbconvert_exporter": "python",
   "pygments_lexer": "ipython3",
   "version": "3.8.3"
  }
 },
 "nbformat": 4,
 "nbformat_minor": 4
}
